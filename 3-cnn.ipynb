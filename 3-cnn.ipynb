{
  "cells": [
    {
      "cell_type": "markdown",
      "metadata": {
        "id": "view-in-github",
        "colab_type": "text"
      },
      "source": [
        "<a href=\"https://colab.research.google.com/github/grnvlt-9810/cnn-model-for-fyp/blob/main/3-cnn.ipynb\" target=\"_parent\"><img src=\"https://colab.research.google.com/assets/colab-badge.svg\" alt=\"Open In Colab\"/></a>"
      ]
    },
    {
      "cell_type": "code",
      "execution_count": null,
      "metadata": {
        "colab": {
          "base_uri": "https://localhost:8080/"
        },
        "id": "INnH79SSntZ7",
        "outputId": "f71e2973-4632-43a9-864d-0a3db0072e64"
      },
      "outputs": [
        {
          "output_type": "stream",
          "name": "stdout",
          "text": [
            "Drive already mounted at /content/drive; to attempt to forcibly remount, call drive.mount(\"/content/drive\", force_remount=True).\n"
          ]
        }
      ],
      "source": [
        "from google.colab import drive\n",
        "drive.mount('/content/drive')"
      ]
    },
    {
      "cell_type": "code",
      "execution_count": null,
      "metadata": {
        "id": "_yeGzRhWrvob"
      },
      "outputs": [],
      "source": [
        "import os\n",
        "import cv2\n",
        "import zipfile\n",
        "import shutil\n",
        "import numpy as np\n",
        "import matplotlib.pyplot as plt\n",
        "import matplotlib.image as mpimg\n",
        "import random\n",
        "import subprocess\n",
        "from random import choice\n",
        "from skimage.util import random_noise\n",
        "from skimage.transform import resize\n",
        "from scipy.ndimage import rotate\n",
        "import tensorflow as tf\n",
        "from keras.preprocessing.image import ImageDataGenerator\n",
        "from keras.applications import InceptionV3, ResNet50, VGG16\n",
        "from keras.layers import Dense, GlobalAveragePooling2D\n",
        "from keras.models import Model, Sequential\n",
        "from sklearn.metrics import confusion_matrix, classification_report"
      ]
    },
    {
      "cell_type": "code",
      "execution_count": null,
      "metadata": {
        "id": "hlxTOGinrxv2"
      },
      "outputs": [],
      "source": [
        "# constant seed number\n",
        "seed=34581\n",
        "np.random.seed(34581)\n",
        "tf.random.set_seed(34581)"
      ]
    },
    {
      "cell_type": "code",
      "execution_count": null,
      "metadata": {
        "id": "SqwY4GDGrxse"
      },
      "outputs": [],
      "source": [
        "zip_path = '/content/drive/MyDrive/swdb.zip'\n",
        "extr_path = 'swdb'\n",
        "\n",
        "with zipfile.ZipFile(zip_path, 'r') as zip_ref:\n",
        "  zip_ref.extractall(extr_path)"
      ]
    },
    {
      "cell_type": "code",
      "execution_count": null,
      "metadata": {
        "id": "E20od7yzrxo7"
      },
      "outputs": [],
      "source": [
        "# Set the path to the directory containing the folders\n",
        "dir_path = '/content/swdb/swdb'\n",
        "\n",
        "# Get a list of all folders in the directory\n",
        "folders = [folder for folder in os.listdir(dir_path) if os.path.isdir(os.path.join(dir_path, folder))]"
      ]
    },
    {
      "cell_type": "markdown",
      "source": [
        "Iterate through files in the folder to check for format discrepancies"
      ],
      "metadata": {
        "id": "zlhBcV2k4cuh"
      }
    },
    {
      "cell_type": "code",
      "execution_count": null,
      "metadata": {
        "id": "Kij6_Xmcrxmd"
      },
      "outputs": [],
      "source": [
        "# Set the target size for the images\n",
        "target_width = 250\n",
        "target_height = 250\n",
        "\n",
        "# Set the path to the directory containing the folders\n",
        "dir_path = '/content/swdb/swdb'\n",
        "\n",
        "# Set the path to the directory to save the resized files\n",
        "save_dir = 'database/swdb_resize'\n",
        "\n",
        "# Delete the existing contents of the save_directory if it already exists\n",
        "if os.path.exists(save_dir):\n",
        "    shutil.rmtree(save_dir)\n",
        "\n",
        "# Iterate through each folder\n",
        "for folder in os.listdir(dir_path):\n",
        "    # Get the list of files in the folder\n",
        "    folder_path = os.path.join(dir_path, folder)\n",
        "    files = os.listdir(folder_path)\n",
        "\n",
        "    # Create a folder to save the resized files\n",
        "    save_folder = os.path.join(save_dir, folder)\n",
        "    os.makedirs(save_folder, exist_ok=True)\n",
        "\n",
        "    # Iterate through each file in the folder\n",
        "    for file in files:\n",
        "        # Check file\n",
        "        if file.lower().endswith(('.jpg', '.png', '.jpeg')):\n",
        "            # Resize the image\n",
        "            file_path = os.path.join(folder_path, file)\n",
        "            img = mpimg.imread(file_path)\n",
        "            resized_img = resize(img, (target_height, target_width))\n",
        "\n",
        "            # Save the resized image in the save directory\n",
        "            save_file = os.path.join(save_folder, file)\n",
        "            plt.imsave(save_file, resized_img)\n",
        "\n",
        "            print(f\"Resized file saved: {save_file}\")\n"
      ]
    },
    {
      "cell_type": "markdown",
      "source": [
        "Augmentating files to add iversity to the dataset"
      ],
      "metadata": {
        "id": "Q_kw-rWo4v4G"
      }
    },
    {
      "cell_type": "code",
      "execution_count": null,
      "metadata": {
        "colab": {
          "base_uri": "https://localhost:8080/"
        },
        "id": "eRm1r83krxkC",
        "outputId": "3aaecd9b-5387-41b9-ac45-3d76fc2e286f"
      },
      "outputs": [
        {
          "output_type": "stream",
          "name": "stdout",
          "text": [
            "Transformed copies created for file: burns (42).jpg\n",
            "Transformed copies created for file: burns (67).jpg\n",
            "Transformed copies created for file: burns (35).jpg\n",
            "Transformed copies created for file: burns (29).jpg\n",
            "Transformed copies created for file: burns (45).jpg\n",
            "Transformed copies created for file: burns (22).jpg\n",
            "Transformed copies created for file: burns (17).jpg\n",
            "Transformed copies created for file: burns (53).jpg\n",
            "Transformed copies created for file: burns (55).jpg\n",
            "Transformed copies created for file: burns (47).jpg\n",
            "Transformed copies created for file: burns (77).jpg\n",
            "Transformed copies created for file: burns (9).jpg\n",
            "Transformed copies created for file: burns (60).jpg\n",
            "Transformed copies created for file: burns (54).jpg\n",
            "Transformed copies created for file: burns (46).jpg\n",
            "Transformed copies created for file: burns (72).jpg\n",
            "Transformed copies created for file: burns (20).jpg\n",
            "Transformed copies created for file: burns (7).jpg\n",
            "Transformed copies created for file: burns (31).jpg\n",
            "Transformed copies created for file: burns (28).jpg\n",
            "Transformed copies created for file: burns (73).jpg\n",
            "Transformed copies created for file: burns (24).jpg\n",
            "Transformed copies created for file: burns (37).jpg\n",
            "Transformed copies created for file: burns (56).jpg\n",
            "Transformed copies created for file: burns (1).jpg\n",
            "Transformed copies created for file: burns (39).jpg\n",
            "Transformed copies created for file: burns (36).jpg\n",
            "Transformed copies created for file: burns (6).jpg\n",
            "Transformed copies created for file: burns (32).jpg\n",
            "Transformed copies created for file: burns (52).jpg\n",
            "Transformed copies created for file: burns (51).jpg\n",
            "Transformed copies created for file: burns (65).jpg\n",
            "Transformed copies created for file: burns (12).jpg\n",
            "Transformed copies created for file: burns (83).jpg\n",
            "Transformed copies created for file: burns (79).jpg\n",
            "Transformed copies created for file: burns (27).jpg\n",
            "Transformed copies created for file: burns (15).jpg\n",
            "Transformed copies created for file: burns (75).jpg\n",
            "Transformed copies created for file: burns (50).jpg\n",
            "Transformed copies created for file: burns (70).jpg\n",
            "Transformed copies created for file: burns (34).jpg\n",
            "Transformed copies created for file: burns (76).jpg\n",
            "Transformed copies created for file: burns (38).jpg\n",
            "Transformed copies created for file: burns (44).jpg\n",
            "Transformed copies created for file: burns (4).jpg\n",
            "Transformed copies created for file: burns (25).jpg\n",
            "Transformed copies created for file: burns (33).jpg\n",
            "Transformed copies created for file: burns (21).jpg\n",
            "Transformed copies created for file: burns (85).jpg\n",
            "Transformed copies created for file: burns (19).jpg\n",
            "Transformed copies created for file: burns (26).jpg\n",
            "Transformed copies created for file: burns (18).jpg\n",
            "Transformed copies created for file: burns (3).jpg\n",
            "Transformed copies created for file: burns (5).jpg\n",
            "Transformed copies created for file: burns (84).jpg\n",
            "Transformed copies created for file: burns (40).jpg\n",
            "Transformed copies created for file: burns (23).jpg\n",
            "Transformed copies created for file: burns (8).jpg\n",
            "Transformed copies created for file: burns (82).jpg\n",
            "Transformed copies created for file: burns (57).jpg\n",
            "Transformed copies created for file: burns (48).jpg\n",
            "Transformed copies created for file: burns (16).jpg\n",
            "Transformed copies created for file: burns (30).jpg\n",
            "Transformed copies created for file: burns (59).jpg\n",
            "Transformed copies created for file: burns (68).jpg\n",
            "Transformed copies created for file: burns (80).jpg\n",
            "Transformed copies created for file: burns (14).jpg\n",
            "Transformed copies created for file: burns (2).jpg\n",
            "Transformed copies created for file: burns (61).jpg\n",
            "Transformed copies created for file: burns (41).jpg\n",
            "Transformed copies created for file: burns (10).jpg\n",
            "Transformed copies created for file: burns (71).jpg\n",
            "Transformed copies created for file: burns (69).jpg\n",
            "Transformed copies created for file: burns (81).jpg\n",
            "Transformed copies created for file: burns (11).jpg\n",
            "Transformed copies created for file: burns (74).jpg\n",
            "Transformed copies created for file: burns (58).jpg\n",
            "Transformed copies created for file: burns (43).jpg\n",
            "Transformed copies created for file: burns (62).jpg\n",
            "Transformed copies created for file: burns (66).jpg\n",
            "Transformed copies created for file: burns (78).jpg\n",
            "Transformed copies created for file: burns (49).jpg\n",
            "Transformed copies created for file: burns (63).jpg\n",
            "Transformed copies created for file: burns (64).jpg\n",
            "Transformed copies created for file: burns (13).jpg\n",
            "Transformed copies created for file: abrasions (55).jpg\n",
            "Transformed copies created for file: abrasions (42).jpg\n",
            "Transformed copies created for file: abrasions (66).jpg\n",
            "Transformed copies created for file: abrasions (27).jpg\n",
            "Transformed copies created for file: abrasions (1).jpg\n",
            "Transformed copies created for file: abrasions (16).jpg\n",
            "Transformed copies created for file: abrasions (56).jpg\n",
            "Transformed copies created for file: abrasions (24).jpg\n",
            "Transformed copies created for file: abrasions (26).jpg\n",
            "Transformed copies created for file: abrasions (10).jpg\n",
            "Transformed copies created for file: abrasions (40).jpg\n",
            "Transformed copies created for file: abrasions (34).jpg\n",
            "Transformed copies created for file: abrasions (50).jpg\n",
            "Transformed copies created for file: abrasions (45).jpg\n",
            "Transformed copies created for file: abrasions (5).jpg\n",
            "Transformed copies created for file: abrasions (19).jpg\n",
            "Transformed copies created for file: abrasions (31).jpg\n",
            "Transformed copies created for file: abrasions (28).jpg\n",
            "Transformed copies created for file: abrasions (62).jpg\n",
            "Transformed copies created for file: abrasions (84).jpg\n",
            "Transformed copies created for file: abrasions (37).jpg\n",
            "Transformed copies created for file: abrasions (20).jpg\n",
            "Transformed copies created for file: abrasions (59).jpg\n",
            "Transformed copies created for file: abrasions (29).jpg\n",
            "Transformed copies created for file: abrasions (23).jpg\n",
            "Transformed copies created for file: abrasions (36).jpg\n",
            "Transformed copies created for file: abrasions (7).jpg\n",
            "Transformed copies created for file: abrasions (8).jpg\n",
            "Transformed copies created for file: abrasions (32).jpg\n",
            "Transformed copies created for file: abrasions (71).jpg\n",
            "Transformed copies created for file: abrasions (73).jpg\n",
            "Transformed copies created for file: abrasions (47).jpg\n",
            "Transformed copies created for file: abrasions (17).jpg\n",
            "Transformed copies created for file: abrasions (68).jpg\n",
            "Transformed copies created for file: abrasions (72).jpg\n",
            "Transformed copies created for file: abrasions (15).jpg\n",
            "Transformed copies created for file: abrasions (79).jpg\n",
            "Transformed copies created for file: abrasions (38).jpg\n",
            "Transformed copies created for file: abrasions (80).jpg\n",
            "Transformed copies created for file: abrasions (3).jpg\n",
            "Transformed copies created for file: abrasions (81).jpg\n",
            "Transformed copies created for file: abrasions (2).jpg\n",
            "Transformed copies created for file: abrasions (18).jpg\n",
            "Transformed copies created for file: abrasions (58).jpg\n",
            "Transformed copies created for file: abrasions (49).jpg\n",
            "Transformed copies created for file: abrasions (60).jpg\n",
            "Transformed copies created for file: abrasions (46).jpg\n",
            "Transformed copies created for file: abrasions (43).jpg\n",
            "Transformed copies created for file: abrasions (4).jpg\n",
            "Transformed copies created for file: abrasions (22).jpg\n",
            "Transformed copies created for file: abrasions (75).jpg\n",
            "Transformed copies created for file: abrasions (54).jpg\n",
            "Transformed copies created for file: abrasions (51).jpg\n",
            "Transformed copies created for file: abrasions (25).jpg\n",
            "Transformed copies created for file: abrasions (48).jpg\n",
            "Transformed copies created for file: abrasions (33).jpg\n",
            "Transformed copies created for file: abrasions (12).jpg\n",
            "Transformed copies created for file: abrasions (21).jpg\n",
            "Transformed copies created for file: abrasions (74).jpg\n",
            "Transformed copies created for file: abrasions (63).jpg\n",
            "Transformed copies created for file: abrasions (9).jpg\n",
            "Transformed copies created for file: abrasions (61).jpg\n",
            "Transformed copies created for file: abrasions (14).jpg\n",
            "Transformed copies created for file: abrasions (83).jpg\n",
            "Transformed copies created for file: abrasions (77).jpg\n",
            "Transformed copies created for file: abrasions (39).jpg\n",
            "Transformed copies created for file: abrasions (53).jpg\n",
            "Transformed copies created for file: abrasions (85).jpg\n",
            "Transformed copies created for file: abrasions (69).jpg\n",
            "Transformed copies created for file: abrasions (11).jpg\n",
            "Transformed copies created for file: abrasions (78).jpg\n",
            "Transformed copies created for file: abrasions (57).jpg\n",
            "Transformed copies created for file: abrasions (35).jpg\n",
            "Transformed copies created for file: abrasions (41).jpg\n",
            "Transformed copies created for file: abrasions (82).jpg\n",
            "Transformed copies created for file: abrasions (13).jpg\n",
            "Transformed copies created for file: abrasions (65).jpg\n",
            "Transformed copies created for file: abrasions (44).jpg\n",
            "Transformed copies created for file: abrasions (52).jpg\n",
            "Transformed copies created for file: abrasions (30).jpg\n",
            "Transformed copies created for file: abrasions (64).jpg\n",
            "Transformed copies created for file: abrasions (6).jpg\n",
            "Transformed copies created for file: abrasions (70).jpg\n",
            "Transformed copies created for file: abrasions (67).jpg\n",
            "Transformed copies created for file: abrasions (76).jpg\n",
            "Transformed copies created for file: bruises (23).jpg\n",
            "Transformed copies created for file: bruises (73).jpg\n",
            "Transformed copies created for file: bruises (54).jpg\n",
            "Transformed copies created for file: bruises (16).jpg\n",
            "Transformed copies created for file: bruises (75).jpg\n",
            "Transformed copies created for file: bruises (8).jpg\n",
            "Transformed copies created for file: bruises (28).jpg\n",
            "Transformed copies created for file: bruises (83).jpg\n",
            "Transformed copies created for file: bruises (22).jpg\n",
            "Transformed copies created for file: bruises (26).jpg\n",
            "Transformed copies created for file: bruises (49).jpg\n",
            "Transformed copies created for file: bruises (6).jpg\n",
            "Transformed copies created for file: bruises (60).jpg\n",
            "Transformed copies created for file: bruises (79).jpg\n",
            "Transformed copies created for file: bruises (61).jpg\n",
            "Transformed copies created for file: bruises (12).jpg\n",
            "Transformed copies created for file: bruises (81).jpg\n",
            "Transformed copies created for file: bruises (21).jpg\n",
            "Transformed copies created for file: bruises (5).jpg\n",
            "Transformed copies created for file: bruises (39).jpg\n",
            "Transformed copies created for file: bruises (80).jpg\n",
            "Transformed copies created for file: bruises (68).jpg\n",
            "Transformed copies created for file: bruises (24).jpg\n",
            "Transformed copies created for file: bruises (78).jpg\n",
            "Transformed copies created for file: bruises (46).jpg\n",
            "Transformed copies created for file: bruises (35).jpg\n",
            "Transformed copies created for file: bruises (2).jpg\n",
            "Transformed copies created for file: bruises (47).jpg\n",
            "Transformed copies created for file: bruises (30).jpg\n",
            "Transformed copies created for file: bruises (13).jpg\n",
            "Transformed copies created for file: bruises (32).jpg\n",
            "Transformed copies created for file: bruises (63).jpg\n",
            "Transformed copies created for file: bruises (56).jpg\n",
            "Transformed copies created for file: bruises (69).jpg\n",
            "Transformed copies created for file: bruises (3).jpg\n",
            "Transformed copies created for file: bruises (55).jpg\n",
            "Transformed copies created for file: bruises (25).jpg\n",
            "Transformed copies created for file: bruises (36).jpg\n",
            "Transformed copies created for file: bruises (27).jpg\n",
            "Transformed copies created for file: bruises (77).jpg\n",
            "Transformed copies created for file: bruises (57).jpg\n",
            "Transformed copies created for file: bruises (20).jpg\n",
            "Transformed copies created for file: bruises (37).jpg\n",
            "Transformed copies created for file: bruises (31).jpg\n",
            "Transformed copies created for file: bruises (19).jpg\n",
            "Transformed copies created for file: bruises (10).jpg\n",
            "Transformed copies created for file: bruises (52).jpg\n",
            "Transformed copies created for file: bruises (33).jpg\n",
            "Transformed copies created for file: bruises (9).jpg\n",
            "Transformed copies created for file: bruises (7).jpg\n",
            "Transformed copies created for file: bruises (84).jpg\n",
            "Transformed copies created for file: bruises (74).jpg\n",
            "Transformed copies created for file: bruises (48).jpg\n",
            "Transformed copies created for file: bruises (44).jpg\n",
            "Transformed copies created for file: bruises (85).jpg\n",
            "Transformed copies created for file: bruises (50).jpg\n",
            "Transformed copies created for file: bruises (14).jpg\n",
            "Transformed copies created for file: bruises (15).jpg\n",
            "Transformed copies created for file: bruises (65).jpg\n",
            "Transformed copies created for file: bruises (59).jpg\n",
            "Transformed copies created for file: bruises (18).jpg\n",
            "Transformed copies created for file: bruises (41).jpg\n",
            "Transformed copies created for file: bruises (64).jpg\n",
            "Transformed copies created for file: bruises (67).jpg\n",
            "Transformed copies created for file: bruises (76).jpg\n",
            "Transformed copies created for file: bruises (4).jpg\n",
            "Transformed copies created for file: bruises (11).jpg\n",
            "Transformed copies created for file: bruises (72).jpg\n",
            "Transformed copies created for file: bruises (38).jpg\n",
            "Transformed copies created for file: bruises (53).jpg\n",
            "Transformed copies created for file: bruises (70).jpg\n",
            "Transformed copies created for file: bruises (71).jpg\n",
            "Transformed copies created for file: bruises (42).jpg\n",
            "Transformed copies created for file: bruises (34).jpg\n",
            "Transformed copies created for file: bruises (17).jpg\n",
            "Transformed copies created for file: bruises (29).jpg\n",
            "Transformed copies created for file: bruises (58).jpg\n",
            "Transformed copies created for file: bruises (51).jpg\n",
            "Transformed copies created for file: bruises (66).jpg\n",
            "Transformed copies created for file: bruises (1).jpg\n",
            "Transformed copies created for file: bruises (40).jpg\n",
            "Transformed copies created for file: bruises (62).jpg\n",
            "Transformed copies created for file: bruises (45).jpg\n",
            "Transformed copies created for file: bruises (82).jpg\n",
            "Transformed copies created for file: bruises (43).jpg\n"
          ]
        }
      ],
      "source": [
        "# Set the path to the directory containing the folders\n",
        "dir_path = '/content/database/swdb_resize'\n",
        "\n",
        "# Get a list of all folders in the directory\n",
        "folders = [folder for folder in os.listdir(dir_path) if os.path.isdir(os.path.join(dir_path, folder))]\n",
        "\n",
        "# Look through each folder\n",
        "for folder in folders:\n",
        "    # Get the list of files in the folder\n",
        "    folder_path = os.path.join(dir_path, folder)\n",
        "    files = os.listdir(folder_path)\n",
        "\n",
        "    # Look through each file in the folder\n",
        "    for file in files:\n",
        "        # Check file extension\n",
        "        if file.lower().endswith(('.jpg', '.png', '.jpeg')):\n",
        "            # Load the resized image\n",
        "            file_path = os.path.join(folder_path, file)\n",
        "            img = cv2.imread(file_path)\n",
        "\n",
        "            # Save the resized image\n",
        "            resized_img_path = os.path.join(folder_path, 'resized_' + file)\n",
        "            cv2.imwrite(resized_img_path, img)\n",
        "\n",
        "            # Add salt and pepper noise\n",
        "            noise_img = random_noise(img, mode='s&p', amount=0.2, seed=34581)\n",
        "            noise_img = np.array(255 * noise_img, dtype=np.uint8)\n",
        "            noise_folder_path = os.path.join(dir_path, folder + '_resize_noise')\n",
        "            os.makedirs(noise_folder_path, exist_ok=True)\n",
        "            noise_img_path = os.path.join(noise_folder_path, 'noise_' + file)\n",
        "            cv2.imwrite(noise_img_path, noise_img)\n",
        "\n",
        "            # Random translation and rotation\n",
        "            translate_rotate_img = img.copy()\n",
        "            translation_percent = 0.2\n",
        "            translation_x = int(translation_percent * target_width)\n",
        "            translation_y = int(translation_percent * target_height)\n",
        "            random_translation = choice(['left', 'right', 'top', 'bottom'])\n",
        "            if random_translation == 'left':\n",
        "                translate_rotate_img = np.roll(translate_rotate_img, -translation_x, axis=1)\n",
        "            elif random_translation == 'right':\n",
        "                translate_rotate_img = np.roll(translate_rotate_img, translation_x, axis=1)\n",
        "            elif random_translation == 'top':\n",
        "                translate_rotate_img = np.roll(translate_rotate_img, -translation_y, axis=0)\n",
        "            elif random_translation == 'bottom':\n",
        "                translate_rotate_img = np.roll(translate_rotate_img, translation_y, axis=0)\n",
        "            random_angle = choice([0, 90, 180, 270])\n",
        "            translate_rotate_folder_path = os.path.join(dir_path, folder + '_resize_translate_rotate')\n",
        "            os.makedirs(translate_rotate_folder_path, exist_ok=True)\n",
        "            translate_rotate_img_path = os.path.join(translate_rotate_folder_path, 'translate_rotate_' + file)\n",
        "            cv2.imwrite(translate_rotate_img_path, translate_rotate_img)\n",
        "\n",
        "            # Random translation and flipping\n",
        "            translate_flip_img = img.copy()\n",
        "            random_translation = choice(['left', 'right', 'top', 'bottom'])\n",
        "            if random_translation == 'left':\n",
        "                translate_flip_img = np.roll(translate_flip_img, -translation_x, axis=1)\n",
        "            elif random_translation == 'right':\n",
        "                translate_flip_img = np.roll(translate_flip_img, translation_x, axis=1)\n",
        "            elif random_translation == 'top':\n",
        "                translate_flip_img = np.roll(translate_flip_img, -translation_y, axis=0)\n",
        "            elif random_translation == 'bottom':\n",
        "                translate_flip_img = np.roll(translate_flip_img, translation_y, axis=0)\n",
        "            random_flip = choice(['horizontal', 'vertical'])\n",
        "            if random_flip == 'horizontal':\n",
        "                translate_flip_img = cv2.flip(translate_flip_img, 1)\n",
        "            elif random_flip == 'vertical':\n",
        "                translate_flip_img = cv2.flip(translate_flip_img, 0)\n",
        "            translate_flip_folder_path = os.path.join(dir_path, folder + '_resize_translate_flip')\n",
        "            os.makedirs(translate_flip_folder_path, exist_ok=True)\n",
        "            translate_flip_img_path = os.path.join(translate_flip_folder_path, 'translate_flip_' + file)\n",
        "            cv2.imwrite(translate_flip_img_path, translate_flip_img)\n",
        "\n",
        "            print(f\"Transformed copies created for file: {file}\")\n"
      ]
    },
    {
      "cell_type": "markdown",
      "source": [
        "Bunch of codes for rearranging codes into its folder"
      ],
      "metadata": {
        "id": "ztR72ceB45jT"
      }
    },
    {
      "cell_type": "code",
      "execution_count": null,
      "metadata": {
        "colab": {
          "base_uri": "https://localhost:8080/",
          "height": 35
        },
        "id": "VxGTdo3YrxiC",
        "outputId": "9c2d85f3-6807-4be1-ccbc-2dfed57c418d"
      },
      "outputs": [
        {
          "output_type": "execute_result",
          "data": {
            "text/plain": [
              "'/content/database/swdb_resize/ABRASION/ABRASION_resize_noise'"
            ],
            "application/vnd.google.colaboratory.intrinsic+json": {
              "type": "string"
            }
          },
          "metadata": {},
          "execution_count": 8
        }
      ],
      "source": [
        "#SUP BURNS\n",
        "# Source folder (the folder you want to move)\n",
        "source_folder = '/content/database/swdb_resize/SUP BURNS_resize_noise'\n",
        "\n",
        "# Destination subfolder (where you want to move the source folder)\n",
        "destination_subfolder = '/content/database/swdb_resize/SUP BURNS'\n",
        "\n",
        "# Use shutil.move to move the source folder to the destination\n",
        "shutil.move(source_folder, destination_subfolder)\n",
        "\n",
        "#BRUISE\n",
        "# Source folder (the folder you want to move)\n",
        "source_folder = '/content/database/swdb_resize/BRUISE_resize_noise'\n",
        "\n",
        "# Destination subfolder (where you want to move the source folder)\n",
        "destination_subfolder = '/content/database/swdb_resize/BRUISE'\n",
        "\n",
        "# Use shutil.move to move the source folder to the destination\n",
        "shutil.move(source_folder, destination_subfolder)\n",
        "\n",
        "#ABRASION\n",
        "# Source folder (the folder you want to move)\n",
        "source_folder = '/content/database/swdb_resize/ABRASION_resize_noise'\n",
        "\n",
        "# Destination subfolder (where you want to move the source folder)\n",
        "destination_subfolder = '/content/database/swdb_resize/ABRASION'\n",
        "\n",
        "# Use shutil.move to move the source folder to the destination\n",
        "shutil.move(source_folder, destination_subfolder)"
      ]
    },
    {
      "cell_type": "code",
      "execution_count": null,
      "metadata": {
        "colab": {
          "base_uri": "https://localhost:8080/",
          "height": 35
        },
        "id": "QbSDl-hirxfa",
        "outputId": "e71cb646-d7d1-4686-8835-6dd8e580e002"
      },
      "outputs": [
        {
          "output_type": "execute_result",
          "data": {
            "text/plain": [
              "'/content/database/swdb_resize/ABRASION/ABRASION_resize_translate_rotate'"
            ],
            "application/vnd.google.colaboratory.intrinsic+json": {
              "type": "string"
            }
          },
          "metadata": {},
          "execution_count": 9
        }
      ],
      "source": [
        "#SUP BURNS\n",
        "# Source folder (the folder you want to move)\n",
        "source_folder = '/content/database/swdb_resize/SUP BURNS_resize_translate_rotate'\n",
        "\n",
        "# Destination subfolder (where you want to move the source folder)\n",
        "destination_subfolder = '/content/database/swdb_resize/SUP BURNS'\n",
        "\n",
        "# Use shutil.move to move the source folder to the destination\n",
        "shutil.move(source_folder, destination_subfolder)\n",
        "\n",
        "#BRUISE\n",
        "# Source folder (the folder you want to move)\n",
        "source_folder = '/content/database/swdb_resize/BRUISE_resize_translate_rotate'\n",
        "\n",
        "# Destination subfolder (where you want to move the source folder)\n",
        "destination_subfolder = '/content/database/swdb_resize/BRUISE'\n",
        "\n",
        "# Use shutil.move to move the source folder to the destination\n",
        "shutil.move(source_folder, destination_subfolder)\n",
        "\n",
        "#ABRASION\n",
        "# Source folder (the folder you want to move)\n",
        "source_folder = '/content/database/swdb_resize/ABRASION_resize_translate_rotate'\n",
        "\n",
        "# Destination subfolder (where you want to move the source folder)\n",
        "destination_subfolder = '/content/database/swdb_resize/ABRASION'\n",
        "\n",
        "# Use shutil.move to move the source folder to the destination\n",
        "shutil.move(source_folder, destination_subfolder)"
      ]
    },
    {
      "cell_type": "code",
      "execution_count": null,
      "metadata": {
        "colab": {
          "base_uri": "https://localhost:8080/",
          "height": 35
        },
        "id": "tA5wm176rxdP",
        "outputId": "c3fdba2a-6b32-4ef3-d36e-7ba5bb4eb486"
      },
      "outputs": [
        {
          "output_type": "execute_result",
          "data": {
            "text/plain": [
              "'/content/database/swdb_resize/ABRASION/ABRASION_resize_translate_flip'"
            ],
            "application/vnd.google.colaboratory.intrinsic+json": {
              "type": "string"
            }
          },
          "metadata": {},
          "execution_count": 10
        }
      ],
      "source": [
        "#SUP BURNS\n",
        "# Source folder (the folder you want to move)\n",
        "source_folder = '/content/database/swdb_resize/SUP BURNS_resize_translate_flip'\n",
        "\n",
        "# Destination subfolder (where you want to move the source folder)\n",
        "destination_subfolder = '/content/database/swdb_resize/SUP BURNS'\n",
        "\n",
        "# Use shutil.move to move the source folder to the destination\n",
        "shutil.move(source_folder, destination_subfolder)\n",
        "\n",
        "#BRUISE\n",
        "# Source folder (the folder you want to move)\n",
        "source_folder = '/content/database/swdb_resize/BRUISE_resize_translate_flip'\n",
        "\n",
        "# Destination subfolder (where you want to move the source folder)\n",
        "destination_subfolder = '/content/database/swdb_resize/BRUISE'\n",
        "\n",
        "# Use shutil.move to move the source folder to the destination\n",
        "shutil.move(source_folder, destination_subfolder)\n",
        "\n",
        "#ABRASION\n",
        "# Source folder (the folder you want to move)\n",
        "source_folder = '/content/database/swdb_resize/ABRASION_resize_translate_flip'\n",
        "\n",
        "# Destination subfolder (where you want to move the source folder)\n",
        "destination_subfolder = '/content/database/swdb_resize/ABRASION'\n",
        "\n",
        "# Use shutil.move to move the source folder to the destination\n",
        "shutil.move(source_folder, destination_subfolder)"
      ]
    },
    {
      "cell_type": "code",
      "execution_count": null,
      "metadata": {
        "id": "H0sIYGAorxbG"
      },
      "outputs": [],
      "source": [
        "# Set the path to the parent subfolder\n",
        "parent_folder = '/content/database/swdb_resize/SUP BURNS'\n",
        "\n",
        "# Get the list of subfolders within the parent folder\n",
        "subfolders = [f.path for f in os.scandir(parent_folder) if f.is_dir()]\n",
        "\n",
        "# Iterate over the subfolders\n",
        "for subfolder in subfolders:\n",
        "    # Get the list of items within the subfolder\n",
        "    items = os.listdir(subfolder)\n",
        "\n",
        "    # Move the items to the parent folder\n",
        "    for item in items:\n",
        "        item_path = os.path.join(subfolder, item)\n",
        "        shutil.move(item_path, parent_folder)\n",
        "\n",
        "    # Delete the subfolder\n",
        "    shutil.rmtree(subfolder)"
      ]
    },
    {
      "cell_type": "code",
      "execution_count": null,
      "metadata": {
        "id": "VrZxWkJ4rxYr"
      },
      "outputs": [],
      "source": [
        "# Set the path to the parent subfolder\n",
        "parent_folder = '/content/database/swdb_resize/BRUISE'\n",
        "\n",
        "# Get the list of subfolders within the parent folder\n",
        "subfolders = [f.path for f in os.scandir(parent_folder) if f.is_dir()]\n",
        "\n",
        "# Iterate over the subfolders\n",
        "for subfolder in subfolders:\n",
        "    # Get the list of items within the subfolder\n",
        "    items = os.listdir(subfolder)\n",
        "\n",
        "    # Move the items to the parent folder\n",
        "    for item in items:\n",
        "        item_path = os.path.join(subfolder, item)\n",
        "        shutil.move(item_path, parent_folder)\n",
        "\n",
        "    # Delete the subfolder\n",
        "    shutil.rmtree(subfolder)"
      ]
    },
    {
      "cell_type": "code",
      "execution_count": null,
      "metadata": {
        "id": "lY4kYM1IrxWj"
      },
      "outputs": [],
      "source": [
        "# Set the path to the parent subfolder\n",
        "parent_folder = '/content/database/swdb_resize/ABRASION'\n",
        "\n",
        "# Get the list of subfolders within the parent folder\n",
        "subfolders = [f.path for f in os.scandir(parent_folder) if f.is_dir()]\n",
        "\n",
        "# Iterate over the subfolders\n",
        "for subfolder in subfolders:\n",
        "    # Get the list of items within the subfolder\n",
        "    items = os.listdir(subfolder)\n",
        "\n",
        "    # Move the items to the parent folder\n",
        "    for item in items:\n",
        "        item_path = os.path.join(subfolder, item)\n",
        "        shutil.move(item_path, parent_folder)\n",
        "\n",
        "    # Delete the subfolder\n",
        "    shutil.rmtree(subfolder)"
      ]
    },
    {
      "cell_type": "code",
      "execution_count": null,
      "metadata": {
        "colab": {
          "base_uri": "https://localhost:8080/"
        },
        "id": "CJyrTe2orxUZ",
        "outputId": "54c5c5b5-e123-4c50-ecc2-65b1b7de83b4"
      },
      "outputs": [
        {
          "output_type": "stream",
          "name": "stdout",
          "text": [
            ".ipynb_checkpoints folder does not exist.\n"
          ]
        }
      ],
      "source": [
        "# Path to the dataset directory\n",
        "dataset_dir = '/content/database/swdb_resize'\n",
        "\n",
        "# Delete the .ipynb_checkpoints folder\n",
        "ipynb_checkpoints_dir = os.path.join(dataset_dir, '.ipynb_checkpoints')\n",
        "if os.path.exists(ipynb_checkpoints_dir):\n",
        "    os.rmdir(ipynb_checkpoints_dir)\n",
        "    print(\".ipynb_checkpoints folder deleted.\")\n",
        "else:\n",
        "\n",
        "    print(\".ipynb_checkpoints folder does not exist.\")"
      ]
    },
    {
      "cell_type": "markdown",
      "source": [
        "Codes to split all classes of augmented images/files to 90:10 training-validation:testing, then moving them to their respective folders"
      ],
      "metadata": {
        "id": "wSxa4lol5GP0"
      }
    },
    {
      "cell_type": "code",
      "execution_count": null,
      "metadata": {
        "id": "C3bB0B6hrxSS"
      },
      "outputs": [],
      "source": [
        "# Step 1: Label all images in subfolders\n",
        "parent_folder = '/content/database/swdb_resize'\n",
        "class_labels = {'ABRASION': 0, 'BRUISE': 1, 'SUP BURNS': 2}\n",
        "\n",
        "# Step 2: Create 'train' and 'test' folders\n",
        "train_folder = os.path.join(parent_folder, 'train')\n",
        "test_folder = os.path.join(parent_folder, 'test')\n",
        "\n",
        "if not os.path.exists(train_folder):\n",
        "    os.makedirs(train_folder)\n",
        "\n",
        "if not os.path.exists(test_folder):\n",
        "    os.makedirs(test_folder)\n",
        "\n",
        "# Step 3-7: Split and move images for each class\n",
        "for class_name, label in class_labels.items():\n",
        "    class_folder = os.path.join(parent_folder, class_name)\n",
        "\n",
        "    # Step 3: Shuffle and split images\n",
        "    all_images = os.listdir(class_folder)\n",
        "    random.shuffle(all_images)\n",
        "    split_index = int(0.9 * len(all_images))\n",
        "\n",
        "    # Step 4-6: Move images to 'train' and 'test' folders\n",
        "    train_images = all_images[:split_index]\n",
        "    test_images = all_images[split_index:]\n",
        "\n",
        "    train_class_folder = os.path.join(train_folder, class_name)\n",
        "    test_class_folder = os.path.join(test_folder, class_name)\n",
        "\n",
        "    if not os.path.exists(train_class_folder):\n",
        "        os.makedirs(train_class_folder)\n",
        "\n",
        "    if not os.path.exists(test_class_folder):\n",
        "        os.makedirs(test_class_folder)\n",
        "\n",
        "    for img in train_images:\n",
        "        shutil.move(os.path.join(class_folder, img), os.path.join(train_class_folder, img))\n",
        "\n",
        "    for img in test_images:\n",
        "        shutil.move(os.path.join(class_folder, img), os.path.join(test_class_folder, img))\n",
        "\n",
        "def delete_empty_folders(directory):\n",
        "    for root, dirs, files in os.walk(directory, topdown=False):\n",
        "        for folder in dirs:\n",
        "            folder_path = os.path.join(root, folder)\n",
        "            if not os.listdir(folder_path):\n",
        "                os.rmdir(folder_path)\n",
        "\n",
        "directory_to_check = '/content/database/swdb_resize'\n",
        "delete_empty_folders(directory_to_check)"
      ]
    },
    {
      "cell_type": "markdown",
      "source": [
        "Print total number of files in each directory"
      ],
      "metadata": {
        "id": "7LYtQbRU5en3"
      }
    },
    {
      "cell_type": "code",
      "execution_count": null,
      "metadata": {
        "colab": {
          "base_uri": "https://localhost:8080/"
        },
        "id": "g9t4uDE1rxQM",
        "outputId": "099104e7-a1d6-442e-81c2-a767471bdbe9"
      },
      "outputs": [
        {
          "output_type": "stream",
          "name": "stdout",
          "text": [
            "Folder: test, Total Images: 0\n",
            "Folder: train, Total Images: 0\n",
            "Folder: SUP BURNS, Total Images: 43\n",
            "Folder: ABRASION, Total Images: 43\n",
            "Folder: BRUISE, Total Images: 43\n",
            "Folder: SUP BURNS, Total Images: 382\n",
            "Folder: ABRASION, Total Images: 382\n",
            "Folder: BRUISE, Total Images: 382\n"
          ]
        }
      ],
      "source": [
        "def count_images_in_folders(directory):\n",
        "    for root, dirs, files in os.walk(directory):\n",
        "        for folder in dirs:\n",
        "            folder_path = os.path.join(root, folder)\n",
        "            total_images = len([file for file in os.listdir(folder_path) if file.lower().endswith(('.png', '.jpg', '.jpeg', '.gif'))])\n",
        "            print(f\"Folder: {folder}, Total Images: {total_images}\")\n",
        "\n",
        "directory_to_check = '/content/database/swdb_resize'\n",
        "count_images_in_folders(directory_to_check)\n"
      ]
    },
    {
      "cell_type": "markdown",
      "source": [
        "Input feeding to the model with normalization augmentation for all images/files"
      ],
      "metadata": {
        "id": "x6jSAPty5o4e"
      }
    },
    {
      "cell_type": "code",
      "execution_count": null,
      "metadata": {
        "colab": {
          "base_uri": "https://localhost:8080/"
        },
        "id": "7D9EAJktrxN7",
        "outputId": "0e226962-5292-4fab-f254-bb7fa6939c02"
      },
      "outputs": [
        {
          "output_type": "stream",
          "name": "stdout",
          "text": [
            "Found 918 images belonging to 3 classes.\n",
            "Found 228 images belonging to 3 classes.\n"
          ]
        }
      ],
      "source": [
        "# Path to the extracted dataset directory\n",
        "dataset_dir = '/content/database/swdb_resize/train'\n",
        "\n",
        "# Define classes\n",
        "classes = ['ABRASION', 'BRUISE', 'SUP BURNS']\n",
        "\n",
        "img_size = (299, 299)\n",
        "batch_size=32\n",
        "\n",
        "# Re-configure the data generator for training and validation\n",
        "datagen = ImageDataGenerator(\n",
        "    rescale=1./255,\n",
        "    rotation_range=50,\n",
        "    width_shift_range=0.2,\n",
        "    height_shift_range=0.2,\n",
        "    shear_range=0.2,\n",
        "    zoom_range=0.2,\n",
        "    horizontal_flip=True,\n",
        "    validation_split=0.2)  # 80% for  training 20% for validation\n",
        "\n",
        "train_generator = datagen.flow_from_directory(\n",
        "    dataset_dir,\n",
        "    target_size=img_size,\n",
        "    batch_size=batch_size,\n",
        "    seed=seed,\n",
        "    class_mode='categorical',\n",
        "    subset='training')  # 80% training\n",
        "\n",
        "val_generator = datagen.flow_from_directory(\n",
        "    dataset_dir,\n",
        "    target_size=img_size,\n",
        "    batch_size=batch_size,\n",
        "    seed=seed,\n",
        "    class_mode='categorical',\n",
        "    subset='validation')  # 20% validation set"
      ]
    },
    {
      "cell_type": "markdown",
      "source": [
        "Base model, since all model used the same setup just comment and uncomment any line of base model"
      ],
      "metadata": {
        "id": "hf9iztRe5y0I"
      }
    },
    {
      "cell_type": "code",
      "execution_count": null,
      "metadata": {
        "colab": {
          "base_uri": "https://localhost:8080/"
        },
        "id": "O1mtFKbChJCy",
        "outputId": "f2316a5b-7728-4e15-a1b4-9513a351ce94"
      },
      "outputs": [
        {
          "output_type": "stream",
          "name": "stdout",
          "text": [
            "Epoch 1/100\n",
            "28/28 [==============================] - 91s 2s/step - loss: 1.6396 - accuracy: 0.3702 - val_loss: 1.5559 - val_accuracy: 0.3393\n",
            "Epoch 2/100\n",
            "28/28 [==============================] - 29s 1s/step - loss: 1.0613 - accuracy: 0.4673 - val_loss: 1.1106 - val_accuracy: 0.3393\n",
            "Epoch 3/100\n",
            "28/28 [==============================] - 35s 1s/step - loss: 0.9923 - accuracy: 0.5079 - val_loss: 1.2841 - val_accuracy: 0.3259\n",
            "Epoch 4/100\n",
            "28/28 [==============================] - 29s 1s/step - loss: 0.9295 - accuracy: 0.5790 - val_loss: 1.2613 - val_accuracy: 0.3348\n",
            "Epoch 5/100\n",
            "28/28 [==============================] - 31s 1s/step - loss: 0.9110 - accuracy: 0.6005 - val_loss: 1.2639 - val_accuracy: 0.3348\n",
            "Epoch 6/100\n",
            "28/28 [==============================] - 33s 1s/step - loss: 0.8341 - accuracy: 0.6479 - val_loss: 1.4644 - val_accuracy: 0.3348\n",
            "Epoch 7/100\n",
            "28/28 [==============================] - 30s 1s/step - loss: 0.7184 - accuracy: 0.7032 - val_loss: 1.2360 - val_accuracy: 0.3705\n",
            "Epoch 8/100\n",
            "28/28 [==============================] - 31s 1s/step - loss: 0.7430 - accuracy: 0.6941 - val_loss: 1.3326 - val_accuracy: 0.3795\n",
            "Epoch 9/100\n",
            "28/28 [==============================] - 31s 1s/step - loss: 0.7214 - accuracy: 0.7043 - val_loss: 1.1851 - val_accuracy: 0.3571\n",
            "Epoch 10/100\n",
            "28/28 [==============================] - 31s 1s/step - loss: 0.7137 - accuracy: 0.7122 - val_loss: 2.2007 - val_accuracy: 0.3438\n",
            "Epoch 11/100\n",
            "28/28 [==============================] - 36s 1s/step - loss: 0.6949 - accuracy: 0.7201 - val_loss: 1.3342 - val_accuracy: 0.4152\n",
            "Epoch 12/100\n",
            "28/28 [==============================] - 31s 1s/step - loss: 0.6832 - accuracy: 0.7223 - val_loss: 2.0878 - val_accuracy: 0.4598\n",
            "Epoch 13/100\n",
            "28/28 [==============================] - 30s 1s/step - loss: 0.6676 - accuracy: 0.7302 - val_loss: 1.6023 - val_accuracy: 0.4911\n",
            "Epoch 14/100\n",
            "28/28 [==============================] - 33s 1s/step - loss: 0.6390 - accuracy: 0.7336 - val_loss: 1.4750 - val_accuracy: 0.4688\n",
            "Epoch 15/100\n",
            "28/28 [==============================] - 30s 1s/step - loss: 0.6048 - accuracy: 0.7449 - val_loss: 2.0384 - val_accuracy: 0.4598\n",
            "Epoch 16/100\n",
            "28/28 [==============================] - 31s 1s/step - loss: 0.5958 - accuracy: 0.7607 - val_loss: 1.3699 - val_accuracy: 0.5625\n",
            "Epoch 17/100\n",
            "28/28 [==============================] - 36s 1s/step - loss: 0.6206 - accuracy: 0.7381 - val_loss: 1.5427 - val_accuracy: 0.4911\n",
            "Epoch 18/100\n",
            "28/28 [==============================] - 30s 1s/step - loss: 0.5975 - accuracy: 0.7585 - val_loss: 0.6177 - val_accuracy: 0.7723\n",
            "Epoch 19/100\n",
            "28/28 [==============================] - 30s 1s/step - loss: 0.5440 - accuracy: 0.7765 - val_loss: 0.4574 - val_accuracy: 0.8036\n",
            "Epoch 20/100\n",
            "28/28 [==============================] - 31s 1s/step - loss: 0.5758 - accuracy: 0.7540 - val_loss: 0.7064 - val_accuracy: 0.6696\n",
            "Epoch 21/100\n",
            "28/28 [==============================] - 30s 1s/step - loss: 0.5660 - accuracy: 0.7754 - val_loss: 0.5140 - val_accuracy: 0.7812\n",
            "Epoch 22/100\n",
            "28/28 [==============================] - 30s 1s/step - loss: 0.5168 - accuracy: 0.7946 - val_loss: 0.5831 - val_accuracy: 0.7902\n",
            "Epoch 23/100\n",
            "28/28 [==============================] - 31s 1s/step - loss: 0.6022 - accuracy: 0.7404 - val_loss: 0.9654 - val_accuracy: 0.6518\n",
            "Epoch 24/100\n",
            "28/28 [==============================] - 31s 1s/step - loss: 0.5288 - accuracy: 0.7833 - val_loss: 0.8589 - val_accuracy: 0.6741\n",
            "Epoch 25/100\n",
            "28/28 [==============================] - 29s 1s/step - loss: 0.4842 - accuracy: 0.8104 - val_loss: 0.4458 - val_accuracy: 0.8527\n",
            "Epoch 26/100\n",
            "28/28 [==============================] - 30s 1s/step - loss: 0.5750 - accuracy: 0.7889 - val_loss: 1.8920 - val_accuracy: 0.6205\n",
            "Epoch 27/100\n",
            "28/28 [==============================] - 30s 1s/step - loss: 0.5122 - accuracy: 0.7923 - val_loss: 0.7014 - val_accuracy: 0.7857\n",
            "Epoch 28/100\n",
            "28/28 [==============================] - 30s 1s/step - loss: 0.4691 - accuracy: 0.8115 - val_loss: 0.7613 - val_accuracy: 0.7455\n",
            "Epoch 29/100\n",
            "28/28 [==============================] - 30s 1s/step - loss: 0.4946 - accuracy: 0.7856 - val_loss: 0.9360 - val_accuracy: 0.6830\n",
            "Epoch 30/100\n",
            "28/28 [==============================] - 29s 1s/step - loss: 0.4841 - accuracy: 0.8093 - val_loss: 0.7560 - val_accuracy: 0.7500\n",
            "Epoch 31/100\n",
            "28/28 [==============================] - 31s 1s/step - loss: 0.4736 - accuracy: 0.8047 - val_loss: 1.4891 - val_accuracy: 0.5893\n",
            "Epoch 32/100\n",
            "28/28 [==============================] - 34s 1s/step - loss: 0.4734 - accuracy: 0.8059 - val_loss: 1.1554 - val_accuracy: 0.6920\n",
            "Epoch 33/100\n",
            "28/28 [==============================] - 35s 1s/step - loss: 0.4781 - accuracy: 0.8217 - val_loss: 1.1490 - val_accuracy: 0.7054\n",
            "Epoch 34/100\n",
            "28/28 [==============================] - 29s 1s/step - loss: 0.4697 - accuracy: 0.8149 - val_loss: 0.8466 - val_accuracy: 0.7009\n",
            "Epoch 35/100\n",
            "28/28 [==============================] - 35s 1s/step - loss: 0.4686 - accuracy: 0.8172 - val_loss: 0.5273 - val_accuracy: 0.8080\n",
            "Epoch 36/100\n",
            "28/28 [==============================] - 30s 1s/step - loss: 0.4289 - accuracy: 0.8510 - val_loss: 1.5289 - val_accuracy: 0.7054\n",
            "Epoch 37/100\n",
            "28/28 [==============================] - 35s 1s/step - loss: 0.4525 - accuracy: 0.8341 - val_loss: 1.6363 - val_accuracy: 0.6518\n",
            "Epoch 38/100\n",
            "28/28 [==============================] - 29s 1s/step - loss: 0.4148 - accuracy: 0.8409 - val_loss: 0.6419 - val_accuracy: 0.8438\n",
            "Epoch 39/100\n",
            "28/28 [==============================] - 30s 1s/step - loss: 0.3738 - accuracy: 0.8646 - val_loss: 0.5931 - val_accuracy: 0.7991\n",
            "Epoch 40/100\n",
            "28/28 [==============================] - 35s 1s/step - loss: 0.4392 - accuracy: 0.8397 - val_loss: 1.0860 - val_accuracy: 0.6473\n",
            "Epoch 41/100\n",
            "28/28 [==============================] - 30s 1s/step - loss: 0.4170 - accuracy: 0.8431 - val_loss: 0.6488 - val_accuracy: 0.8170\n",
            "Epoch 42/100\n",
            "28/28 [==============================] - 30s 1s/step - loss: 0.3645 - accuracy: 0.8781 - val_loss: 0.3803 - val_accuracy: 0.8705\n",
            "Epoch 43/100\n",
            "28/28 [==============================] - 34s 1s/step - loss: 0.3060 - accuracy: 0.8973 - val_loss: 1.0071 - val_accuracy: 0.7857\n",
            "Epoch 44/100\n",
            "28/28 [==============================] - 35s 1s/step - loss: 0.3944 - accuracy: 0.8578 - val_loss: 1.0473 - val_accuracy: 0.7321\n",
            "Epoch 45/100\n",
            "28/28 [==============================] - 29s 1s/step - loss: 0.3687 - accuracy: 0.8747 - val_loss: 0.3346 - val_accuracy: 0.8527\n",
            "Epoch 46/100\n",
            "28/28 [==============================] - 29s 1s/step - loss: 0.3297 - accuracy: 0.8860 - val_loss: 0.4273 - val_accuracy: 0.8393\n",
            "Epoch 47/100\n",
            "28/28 [==============================] - 30s 1s/step - loss: 0.3365 - accuracy: 0.8747 - val_loss: 0.4212 - val_accuracy: 0.8438\n",
            "Epoch 48/100\n",
            "28/28 [==============================] - 29s 1s/step - loss: 0.3572 - accuracy: 0.8679 - val_loss: 0.4633 - val_accuracy: 0.8795\n",
            "Epoch 49/100\n",
            "28/28 [==============================] - 29s 1s/step - loss: 0.3285 - accuracy: 0.8815 - val_loss: 0.5279 - val_accuracy: 0.8259\n",
            "Epoch 50/100\n",
            "28/28 [==============================] - 34s 1s/step - loss: 0.3117 - accuracy: 0.8950 - val_loss: 0.3441 - val_accuracy: 0.8795\n",
            "Epoch 51/100\n",
            "28/28 [==============================] - 29s 1s/step - loss: 0.3518 - accuracy: 0.8758 - val_loss: 0.4051 - val_accuracy: 0.8705\n",
            "Epoch 52/100\n",
            "28/28 [==============================] - 29s 1s/step - loss: 0.2930 - accuracy: 0.8894 - val_loss: 0.7529 - val_accuracy: 0.7455\n",
            "Epoch 53/100\n",
            "28/28 [==============================] - 30s 1s/step - loss: 0.2994 - accuracy: 0.8939 - val_loss: 0.7342 - val_accuracy: 0.8304\n",
            "Epoch 54/100\n",
            "28/28 [==============================] - 34s 1s/step - loss: 0.3011 - accuracy: 0.8883 - val_loss: 1.2109 - val_accuracy: 0.7768\n",
            "Epoch 55/100\n",
            "28/28 [==============================] - 30s 1s/step - loss: 0.2960 - accuracy: 0.8905 - val_loss: 0.2794 - val_accuracy: 0.8884\n",
            "Epoch 56/100\n",
            "28/28 [==============================] - 29s 1s/step - loss: 0.2406 - accuracy: 0.9074 - val_loss: 0.6605 - val_accuracy: 0.7991\n",
            "Epoch 57/100\n",
            "28/28 [==============================] - 29s 1s/step - loss: 0.2815 - accuracy: 0.8984 - val_loss: 0.8999 - val_accuracy: 0.8080\n",
            "Epoch 58/100\n",
            "28/28 [==============================] - 29s 1s/step - loss: 0.3041 - accuracy: 0.8973 - val_loss: 0.1786 - val_accuracy: 0.9420\n",
            "Epoch 59/100\n",
            "28/28 [==============================] - 30s 1s/step - loss: 0.2532 - accuracy: 0.9063 - val_loss: 0.8067 - val_accuracy: 0.7545\n",
            "Epoch 60/100\n",
            "28/28 [==============================] - 34s 1s/step - loss: 0.2330 - accuracy: 0.9018 - val_loss: 0.3716 - val_accuracy: 0.8839\n",
            "Epoch 61/100\n",
            "28/28 [==============================] - 34s 1s/step - loss: 0.2748 - accuracy: 0.8995 - val_loss: 0.4649 - val_accuracy: 0.8482\n",
            "Epoch 62/100\n",
            "28/28 [==============================] - 30s 1s/step - loss: 0.2450 - accuracy: 0.9142 - val_loss: 0.3998 - val_accuracy: 0.8795\n",
            "Epoch 63/100\n",
            "28/28 [==============================] - 30s 1s/step - loss: 0.2375 - accuracy: 0.9142 - val_loss: 0.4672 - val_accuracy: 0.8214\n",
            "Epoch 64/100\n",
            "28/28 [==============================] - 29s 1s/step - loss: 0.2922 - accuracy: 0.8837 - val_loss: 0.5352 - val_accuracy: 0.8348\n",
            "Epoch 65/100\n",
            "28/28 [==============================] - 31s 1s/step - loss: 0.2509 - accuracy: 0.9165 - val_loss: 0.4582 - val_accuracy: 0.8482\n",
            "Epoch 66/100\n",
            "28/28 [==============================] - 29s 1s/step - loss: 0.2578 - accuracy: 0.9108 - val_loss: 0.5242 - val_accuracy: 0.8527\n",
            "Epoch 67/100\n",
            "28/28 [==============================] - 29s 1s/step - loss: 0.2766 - accuracy: 0.9029 - val_loss: 1.4826 - val_accuracy: 0.7188\n",
            "Epoch 68/100\n",
            "28/28 [==============================] - 35s 1s/step - loss: 0.3151 - accuracy: 0.8905 - val_loss: 0.1870 - val_accuracy: 0.9196\n",
            "Epoch 69/100\n",
            "28/28 [==============================] - 29s 1s/step - loss: 0.2646 - accuracy: 0.9029 - val_loss: 0.6150 - val_accuracy: 0.8304\n",
            "Epoch 70/100\n",
            "28/28 [==============================] - 29s 1s/step - loss: 0.2142 - accuracy: 0.9255 - val_loss: 0.5424 - val_accuracy: 0.8304\n",
            "Epoch 71/100\n",
            "28/28 [==============================] - 34s 1s/step - loss: 0.2282 - accuracy: 0.9018 - val_loss: 0.3954 - val_accuracy: 0.8438\n",
            "Epoch 72/100\n",
            "28/28 [==============================] - 34s 1s/step - loss: 0.2365 - accuracy: 0.9052 - val_loss: 0.5167 - val_accuracy: 0.8393\n",
            "Epoch 73/100\n",
            "28/28 [==============================] - 30s 1s/step - loss: 0.2577 - accuracy: 0.9131 - val_loss: 0.3715 - val_accuracy: 0.8527\n",
            "Epoch 74/100\n",
            "28/28 [==============================] - 35s 1s/step - loss: 0.2883 - accuracy: 0.8984 - val_loss: 0.3330 - val_accuracy: 0.8884\n",
            "Epoch 75/100\n",
            "28/28 [==============================] - 30s 1s/step - loss: 0.2094 - accuracy: 0.9300 - val_loss: 0.2844 - val_accuracy: 0.8973\n",
            "Epoch 76/100\n",
            "28/28 [==============================] - 34s 1s/step - loss: 0.2393 - accuracy: 0.9018 - val_loss: 0.1651 - val_accuracy: 0.9375\n",
            "Epoch 77/100\n",
            "28/28 [==============================] - 34s 1s/step - loss: 0.2116 - accuracy: 0.9210 - val_loss: 0.7744 - val_accuracy: 0.8125\n",
            "Epoch 78/100\n",
            "28/28 [==============================] - 29s 1s/step - loss: 0.1798 - accuracy: 0.9368 - val_loss: 0.4206 - val_accuracy: 0.8616\n",
            "Epoch 79/100\n",
            "28/28 [==============================] - 34s 1s/step - loss: 0.2454 - accuracy: 0.9153 - val_loss: 0.2307 - val_accuracy: 0.9464\n",
            "Epoch 80/100\n",
            "28/28 [==============================] - 34s 1s/step - loss: 0.1587 - accuracy: 0.9436 - val_loss: 0.1396 - val_accuracy: 0.9598\n",
            "Epoch 81/100\n",
            "28/28 [==============================] - 29s 1s/step - loss: 0.1868 - accuracy: 0.9402 - val_loss: 0.1569 - val_accuracy: 0.9375\n",
            "Epoch 82/100\n",
            "28/28 [==============================] - 30s 1s/step - loss: 0.1895 - accuracy: 0.9345 - val_loss: 0.2796 - val_accuracy: 0.9152\n",
            "Epoch 83/100\n",
            "28/28 [==============================] - 29s 1s/step - loss: 0.2127 - accuracy: 0.9176 - val_loss: 0.5544 - val_accuracy: 0.8348\n",
            "Epoch 84/100\n",
            "28/28 [==============================] - 29s 1s/step - loss: 0.2491 - accuracy: 0.9120 - val_loss: 0.1587 - val_accuracy: 0.9464\n",
            "Epoch 85/100\n",
            "28/28 [==============================] - 29s 1s/step - loss: 0.1690 - accuracy: 0.9391 - val_loss: 0.3160 - val_accuracy: 0.9152\n",
            "Epoch 86/100\n",
            "28/28 [==============================] - 35s 1s/step - loss: 0.1750 - accuracy: 0.9402 - val_loss: 0.9915 - val_accuracy: 0.7545\n",
            "Epoch 87/100\n",
            "28/28 [==============================] - 29s 1s/step - loss: 0.1846 - accuracy: 0.9413 - val_loss: 0.2013 - val_accuracy: 0.9241\n",
            "Epoch 88/100\n",
            "28/28 [==============================] - 35s 1s/step - loss: 0.1745 - accuracy: 0.9334 - val_loss: 0.3853 - val_accuracy: 0.8571\n",
            "Epoch 89/100\n",
            "28/28 [==============================] - 29s 1s/step - loss: 0.1774 - accuracy: 0.9357 - val_loss: 0.5008 - val_accuracy: 0.8616\n",
            "Epoch 90/100\n",
            "28/28 [==============================] - 29s 1s/step - loss: 0.1316 - accuracy: 0.9503 - val_loss: 0.0844 - val_accuracy: 0.9688\n",
            "Epoch 91/100\n",
            "28/28 [==============================] - 30s 1s/step - loss: 0.1373 - accuracy: 0.9526 - val_loss: 0.5254 - val_accuracy: 0.8527\n",
            "Epoch 92/100\n",
            "28/28 [==============================] - 34s 1s/step - loss: 0.1879 - accuracy: 0.9379 - val_loss: 0.6591 - val_accuracy: 0.8705\n",
            "Epoch 93/100\n",
            "28/28 [==============================] - 34s 1s/step - loss: 0.2086 - accuracy: 0.9323 - val_loss: 0.1800 - val_accuracy: 0.9464\n",
            "Epoch 94/100\n",
            "28/28 [==============================] - 29s 1s/step - loss: 0.2120 - accuracy: 0.9255 - val_loss: 0.3864 - val_accuracy: 0.9018\n",
            "Epoch 95/100\n",
            "28/28 [==============================] - 29s 1s/step - loss: 0.2730 - accuracy: 0.9041 - val_loss: 1.3831 - val_accuracy: 0.6964\n",
            "Epoch 96/100\n",
            "28/28 [==============================] - 34s 1s/step - loss: 0.2372 - accuracy: 0.9074 - val_loss: 0.2648 - val_accuracy: 0.9286\n",
            "Epoch 97/100\n",
            "28/28 [==============================] - 29s 1s/step - loss: 0.1994 - accuracy: 0.9402 - val_loss: 0.1033 - val_accuracy: 0.9688\n",
            "Epoch 98/100\n",
            "28/28 [==============================] - 30s 1s/step - loss: 0.1348 - accuracy: 0.9503 - val_loss: 0.1286 - val_accuracy: 0.9420\n",
            "Epoch 99/100\n",
            "28/28 [==============================] - 30s 1s/step - loss: 0.1604 - accuracy: 0.9436 - val_loss: 0.1539 - val_accuracy: 0.9464\n",
            "Epoch 100/100\n",
            "28/28 [==============================] - 29s 1s/step - loss: 0.1556 - accuracy: 0.9503 - val_loss: 0.4045 - val_accuracy: 0.8571\n"
          ]
        }
      ],
      "source": [
        "# Load InceptionV3 pre-trained model\n",
        "model = Sequential()\n",
        "model.add(InceptionV3(include_top=False, pooling='avg', weights=None))\n",
        "# model.add(ResNet50(include_top=False, pooling='avg', weights=None))\n",
        "# model.add(VGG16(include_top=False, pooling='avg', weights=None))\n",
        "model.add(Dense(1024, activation='relu'))\n",
        "num_classes = len(classes)\n",
        "model.add(Dense(num_classes, activation='softmax'))\n",
        "\n",
        "# Compile the model\n",
        "model.compile(optimizer='adam', loss='categorical_crossentropy', metrics=['accuracy'])\n",
        "history = model.fit(train_generator, steps_per_epoch=train_generator.samples//batch_size, epochs=100, validation_data=val_generator, validation_steps=val_generator.samples//batch_size)\n",
        "model.save_weights('best_weights.h5')\n"
      ]
    },
    {
      "cell_type": "markdown",
      "source": [
        "Plotting for training & validation (for both accuracy and loss)"
      ],
      "metadata": {
        "id": "weJFnQ0d6JYl"
      }
    },
    {
      "cell_type": "code",
      "execution_count": null,
      "metadata": {
        "id": "88_sxTwxrxJ0"
      },
      "outputs": [],
      "source": [
        "def plot_training_history(history):\n",
        "    plt.figure(figsize=(12, 6))\n",
        "    plt.subplot(2, 2, 1)\n",
        "    plt.plot(history.history['accuracy'])\n",
        "    plt.plot(history.history['val_accuracy'])\n",
        "    plt.title('Model Accuracy')\n",
        "    plt.ylabel('Accuracy')\n",
        "    plt.xlabel('Epoch')\n",
        "    plt.legend(['Train', 'Val'], loc='upper left')\n",
        "\n",
        "    plt.subplot(2, 2, 2)\n",
        "    plt.plot(history.history['loss'])\n",
        "    plt.plot(history.history['val_loss'])\n",
        "    plt.title('Model Loss')\n",
        "    plt.ylabel('Loss')\n",
        "    plt.xlabel('Epoch')\n",
        "    plt.legend(['Train', 'Val'], loc='upper left')\n",
        "\n",
        "    plt.show()"
      ]
    },
    {
      "cell_type": "code",
      "execution_count": null,
      "metadata": {
        "id": "aMY6gIcBrxHK",
        "colab": {
          "base_uri": "https://localhost:8080/",
          "height": 286
        },
        "outputId": "d072bbc6-e1b6-43a7-a85a-246956cb2688"
      },
      "outputs": [
        {
          "output_type": "display_data",
          "data": {
            "text/plain": [
              "<Figure size 1200x600 with 2 Axes>"
            ],
            "image/png": "[encoded data removed]"
          },
          "metadata": {}
        }
      ],
      "source": [
        "plot_training_history(history)"
      ]
    },
    {
      "cell_type": "markdown",
      "source": [
        "Similar normalization augmentation for testing and predicting, though the use of model.evalute results is not recorded into results finding"
      ],
      "metadata": {
        "id": "0nJgFPyv6RvP"
      }
    },
    {
      "cell_type": "code",
      "execution_count": null,
      "metadata": {
        "id": "butAH2uCrxEn",
        "colab": {
          "base_uri": "https://localhost:8080/"
        },
        "outputId": "7bc3b6a7-833a-4639-c1f1-b0e927a9d292"
      },
      "outputs": [
        {
          "output_type": "stream",
          "name": "stdout",
          "text": [
            "Found 129 images belonging to 3 classes.\n",
            "5/5 [==============================] - 4s 621ms/step - loss: 0.5042 - accuracy: 0.7984\n",
            "Test accuracy: 0.7984496355056763\n",
            "Test Loss: 0.5041823387145996\n"
          ]
        }
      ],
      "source": [
        "test_dir='/content/database/swdb_resize/test'\n",
        "\n",
        "# Create data generators with data augmentation\n",
        "test_datagen = ImageDataGenerator(\n",
        "    rescale=1./255,\n",
        "    rotation_range=50,\n",
        "    width_shift_range=0.2,\n",
        "    height_shift_range=0.2,\n",
        "    shear_range=0.2,\n",
        "    zoom_range=0.2,\n",
        "    horizontal_flip=True)\n",
        "\n",
        "test_generator = test_datagen.flow_from_directory(\n",
        "    test_dir,\n",
        "    target_size=img_size,\n",
        "    batch_size=batch_size,\n",
        "    seed=210,\n",
        "    class_mode='categorical')\n",
        "\n",
        "test_loss, test_acc = model.evaluate(test_generator, steps=test_generator.samples//batch_size+1)\n",
        "print('Test accuracy:', test_acc)\n",
        "print('Test Loss:', test_loss)"
      ]
    },
    {
      "cell_type": "markdown",
      "source": [
        "Generating prediction and its confusion matrix"
      ],
      "metadata": {
        "id": "dOX2aHcq6lR-"
      }
    },
    {
      "cell_type": "code",
      "execution_count": null,
      "metadata": {
        "id": "Hi7f469TrxCi",
        "colab": {
          "base_uri": "https://localhost:8080/",
          "height": 715
        },
        "outputId": "ca19946e-a816-4c51-d70c-0e5fce515d43"
      },
      "outputs": [
        {
          "output_type": "stream",
          "name": "stdout",
          "text": [
            "5/5 [==============================] - 3s 558ms/step\n",
            "              precision    recall  f1-score   support\n",
            "\n",
            "    ABRASION       0.46      0.44      0.45        43\n",
            "      BRUISE       0.50      0.30      0.38        43\n",
            "   SUP BURNS       0.39      0.56      0.46        43\n",
            "\n",
            "    accuracy                           0.43       129\n",
            "   macro avg       0.45      0.43      0.43       129\n",
            "weighted avg       0.45      0.43      0.43       129\n",
            "\n"
          ]
        },
        {
          "output_type": "display_data",
          "data": {
            "text/plain": [
              "<Figure size 640x480 with 2 Axes>"
            ],
            "image/png": "[encoded data removed]"
          },
          "metadata": {}
        }
      ],
      "source": [
        "# Generate predictions\n",
        "X_test=test_generator\n",
        "model.load_weights('best_weights.h5')\n",
        "y_pred = model.predict(X_test, steps=test_generator.samples//batch_size+1)\n",
        "y_pred_classes = np.argmax(y_pred, axis=1)\n",
        "y_true = test_generator.classes\n",
        "\n",
        "# Generate classification report\n",
        "class_names = list(test_generator.class_indices.keys())\n",
        "print(classification_report(y_true, y_pred_classes, target_names=class_names))\n",
        "\n",
        "# Generate confusion matrix\n",
        "cm = confusion_matrix(np.array(y_true), y_pred_classes)\n",
        "\n",
        "# Show confusion matrix\n",
        "plt.imshow(cm, cmap=plt.cm.Blues)\n",
        "plt.title('Confusion Matrix')\n",
        "plt.colorbar()\n",
        "tick_marks = np.arange(len(class_names))\n",
        "plt.xticks(tick_marks, class_names, rotation=45)\n",
        "plt.yticks(tick_marks, class_names)\n",
        "plt.xlabel('Predicted Label')\n",
        "plt.ylabel('True Label')\n",
        "plt.show()"
      ]
    },
    {
      "cell_type": "markdown",
      "source": [
        "Display of the raw confusion matrix and calculation of each class accuracy, for the sake check-and-balance to the printed confusion matrix."
      ],
      "metadata": {
        "id": "dW6tdMnj6wXS"
      }
    },
    {
      "cell_type": "code",
      "execution_count": null,
      "metadata": {
        "id": "ZSVMuSQvr8DV",
        "colab": {
          "base_uri": "https://localhost:8080/",
          "height": 807
        },
        "outputId": "d49eb1b4-1e93-4ff1-cd50-d1f73d3439f6"
      },
      "outputs": [
        {
          "output_type": "stream",
          "name": "stdout",
          "text": [
            "Raw Confusion Matrix:\n",
            "[[19  7 17]\n",
            " [ 9 13 21]\n",
            " [13  6 24]]\n",
            "\n",
            "Normalized Confusion Matrix:\n",
            "[[0.44186047 0.1627907  0.39534884]\n",
            " [0.20930233 0.30232558 0.48837209]\n",
            " [0.30232558 0.13953488 0.55813953]]\n"
          ]
        },
        {
          "output_type": "display_data",
          "data": {
            "text/plain": [
              "<Figure size 800x600 with 2 Axes>"
            ],
            "image/png": "[encoded data removed]"
          },
          "metadata": {}
        },
        {
          "output_type": "stream",
          "name": "stdout",
          "text": [
            "\n",
            "Class-wise Accuracy:\n",
            "ABRASION: 0.4419\n",
            "BRUISE: 0.3023\n",
            "SUP BURNS: 0.5581\n"
          ]
        }
      ],
      "source": [
        "import seaborn as sns\n",
        "print(\"Raw Confusion Matrix:\")\n",
        "print(cm)\n",
        "\n",
        "# Normalize confusion matrix\n",
        "normalized_cm = cm.astype('float') / cm.sum(axis=1)[:, np.newaxis]\n",
        "print(\"\\nNormalized Confusion Matrix:\")\n",
        "print(normalized_cm)\n",
        "\n",
        "# Plot normalized confusion matrix\n",
        "plt.figure(figsize=(8, 6))\n",
        "sns.heatmap(normalized_cm, annot=True, cmap='Blues', fmt='.4f', xticklabels=class_names, yticklabels=class_names)\n",
        "plt.title('Normalized Confusion Matrix')\n",
        "plt.xlabel('Predicted Label')\n",
        "plt.ylabel('True Label')\n",
        "plt.show()\n",
        "\n",
        "# Calculate and print each class accuracy\n",
        "class_accuracy = np.diag(normalized_cm)\n",
        "class_accuracy_dict = dict(zip(class_names, class_accuracy))\n",
        "\n",
        "print(\"\\nClass-wise Accuracy:\")\n",
        "for class_name, acc in class_accuracy_dict.items():\n",
        "    print(f\"{class_name}: {acc:.4f}\")"
      ]
    },
    {
      "cell_type": "markdown",
      "source": [
        "Printing each classes metric from confusion matrix"
      ],
      "metadata": {
        "id": "okAyrunX7Df4"
      }
    },
    {
      "cell_type": "code",
      "execution_count": null,
      "metadata": {
        "id": "yuXp7ZNmwJT_",
        "colab": {
          "base_uri": "https://localhost:8080/"
        },
        "outputId": "00028450-4be3-4c63-bcd6-cda2d448574f"
      },
      "outputs": [
        {
          "output_type": "stream",
          "name": "stdout",
          "text": [
            "\n",
            "Metrics for class 'ABRASION':\n",
            "  Precision: 0.4634\n",
            "  Recall: 0.4419\n",
            "  F1-Score: 0.4524\n",
            "\n",
            "Metrics for class 'BRUISE':\n",
            "  Precision: 0.5000\n",
            "  Recall: 0.3023\n",
            "  F1-Score: 0.3768\n",
            "\n",
            "Metrics for class 'SUP BURNS':\n",
            "  Precision: 0.3871\n",
            "  Recall: 0.5581\n",
            "  F1-Score: 0.4571\n"
          ]
        }
      ],
      "source": [
        "from sklearn.metrics import precision_recall_fscore_support\n",
        "precision, recall, f1_score, _ = precision_recall_fscore_support(y_true, y_pred_classes, average=None)\n",
        "\n",
        "for i, class_name in enumerate(class_names):\n",
        "    print(f\"\\nMetrics for class '{class_name}':\")\n",
        "    print(\"  Precision:\", f\"{precision[i]:.4f}\")\n",
        "    print(\"  Recall:\", f\"{recall[i]:.4f}\")\n",
        "    print(\"  F1-Score:\", f\"{f1_score[i]:.4f}\")"
      ]
    },
    {
      "cell_type": "markdown",
      "source": [
        "Calculating sensitivity and specificity with the raw data of confusion matrix"
      ],
      "metadata": {
        "id": "iQMk9G1Y7OZJ"
      }
    },
    {
      "cell_type": "code",
      "execution_count": null,
      "metadata": {
        "id": "aDQ2jBh4rxAC",
        "colab": {
          "base_uri": "https://localhost:8080/"
        },
        "outputId": "f2fabaa6-59f0-44c1-e868-f1e62d4faff3"
      },
      "outputs": [
        {
          "output_type": "stream",
          "name": "stdout",
          "text": [
            "Confusion Matrix:  [[19  7 17]\n",
            " [ 9 13 21]\n",
            " [13  6 24]]\n",
            "Sensitivity:  [0.44186047 0.30232558 0.55813953]\n",
            "Specificity:  [0.74418605 0.84883721 0.55813953]\n",
            "Accuracy:  0.43410852713178294\n"
          ]
        }
      ],
      "source": [
        "# Calculate Spec and Sens\n",
        "sensitivity = np.diag(cm) / np.sum(cm, axis=1)\n",
        "specificity = []\n",
        "for i in range(cm.shape[0]):\n",
        "    tn = np.delete(cm, i, axis=0)[:, np.delete(np.arange(cm.shape[0]), i)]\n",
        "    fp = np.delete(cm, i, axis=0)[:, i]\n",
        "    specificity.append(np.sum(tn) / (np.sum(tn) + np.sum(fp)))\n",
        "specificity = np.array(specificity)\n",
        "\n",
        "# Calculate accuracy/rand index (acc)\n",
        "acc = np.sum(np.diag(cm)) / np.sum(cm)\n",
        "\n",
        "print('Confusion Matrix: ', cm)\n",
        "print('Sensitivity: ', sensitivity)\n",
        "print('Specificity: ', specificity)\n",
        "print('Accuracy: ', acc)"
      ]
    }
  ],
  "metadata": {
    "accelerator": "GPU",
    "colab": {
      "provenance": [],
      "gpuType": "T4",
      "authorship_tag": "ABX9TyPMotCW2OzUIywcAPIkR2go",
      "include_colab_link": true
    },
    "kernelspec": {
      "display_name": "Python 3",
      "name": "python3"
    },
    "language_info": {
      "name": "python"
    }
  },
  "nbformat": 4,
  "nbformat_minor": 0
}